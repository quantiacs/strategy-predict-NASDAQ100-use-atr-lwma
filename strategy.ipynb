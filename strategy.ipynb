{
 "cells": [
  {
   "cell_type": "markdown",
   "metadata": {},
   "source": [
    "# Predicting stocks using technical indicators (atr, lwma)\n",
    "This template shows you the basic steps for taking part to the NASDAQ-100 Stock Long-Short contest."
   ]
  },
  {
   "cell_type": "code",
   "execution_count": null,
   "metadata": {},
   "outputs": [],
   "source": [
    "import xarray as xr\n",
    "\n",
    "import qnt.ta as qnta\n",
    "import qnt.data as qndata\n",
    "import qnt.output as qnout\n",
    "import qnt.stats as qns\n",
    "import xarray as xr\n",
    "\n",
    "import qnt.ta as qnta\n",
    "import qnt.backtester as qnbt\n",
    "import qnt.data as qndata\n",
    "\n",
    "\n",
    "def strategy2(data, wma, limit):\n",
    "    vol = data.sel(field=\"vol\")\n",
    "    liq = data.sel(field=\"is_liquid\")\n",
    "    close = data.sel(field=\"close\")\n",
    "    high = data.sel(field=\"high\")\n",
    "    low = data.sel(field=\"low\")\n",
    "\n",
    "    atr = qnta.atr(high=high, low=low, close=close, ma=14)\n",
    "    ratio = atr / close\n",
    "    weights = xr.where(ratio > limit, 0, 1)\n",
    "\n",
    "    money_vol = vol * liq * close\n",
    "    total_money_vol = money_vol.sum(dim='asset')\n",
    "    money_vol_share = money_vol / total_money_vol\n",
    "\n",
    "    return qnta.lwma(money_vol_share, wma) * weights\n",
    "\n",
    "\n",
    "data = qndata.stocks.load_ndx_data(min_date=\"2005-01-01\")\n",
    "weights_1 = strategy2(data, wma=135, limit=0.0205)"
   ]
  },
  {
   "cell_type": "code",
   "execution_count": null,
   "metadata": {},
   "outputs": [],
   "source": [
    "def get_enough_bid_for(weights_):\n",
    "    time_traded = weights_.time[abs(weights_).fillna(0).sum('asset') > 0]\n",
    "    is_strategy_traded = len(time_traded)\n",
    "    if is_strategy_traded:\n",
    "        return xr.where(weights_.time < time_traded.min(), data.sel(field=\"is_liquid\"), weights_)\n",
    "    return weights_\n",
    "\n",
    "weights_new = get_enough_bid_for(weights_1)\n",
    "weights_new = weights_new.sel(time=slice(\"2006-01-01\", None))\n",
    "\n",
    "weights = qnout.clean(output=weights_new, data=data, kind=\"stocks_nasdaq100\")"
   ]
  },
  {
   "cell_type": "code",
   "execution_count": null,
   "metadata": {},
   "outputs": [],
   "source": [
    "def print_statistic(data, weights_all):\n",
    "    import qnt.stats as qnstats\n",
    "\n",
    "    stats = qnstats.calc_stat(data, weights_all)\n",
    "    display(stats.to_pandas().tail(5))\n",
    "    # graph\n",
    "    performance = stats.to_pandas()[\"equity\"]\n",
    "    import qnt.graph as qngraph\n",
    "\n",
    "    qngraph.make_plot_filled(performance.index, performance, name=\"PnL (Equity)\", type=\"log\")\n",
    "\n",
    "print_statistic(data, weights)"
   ]
  },
  {
   "cell_type": "code",
   "execution_count": null,
   "metadata": {},
   "outputs": [],
   "source": [
    "qnout.check(weights, data, \"stocks_nasdaq100\")\n",
    "qnout.write(weights)  # to participate in the competition"
   ]
  },
  {
   "cell_type": "code",
   "execution_count": null,
   "metadata": {},
   "outputs": [],
   "source": [
    "weights"
   ]
  },
  {
   "cell_type": "code",
   "execution_count": null,
   "metadata": {},
   "outputs": [],
   "source": [
    "data"
   ]
  }
 ],
 "metadata": {
  "kernelspec": {
   "display_name": "Python 3",
   "language": "python",
   "name": "python3"
  },
  "language_info": {
   "codemirror_mode": {
    "name": "ipython",
    "version": 3
   },
   "file_extension": ".py",
   "mimetype": "text/x-python",
   "name": "python",
   "nbconvert_exporter": "python",
   "pygments_lexer": "ipython3",
   "version": "3.7.6"
  }
 },
 "nbformat": 4,
 "nbformat_minor": 4
}
